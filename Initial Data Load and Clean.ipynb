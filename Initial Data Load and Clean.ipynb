{
 "cells": [
  {
   "cell_type": "markdown",
   "id": "9c11a0b3",
   "metadata": {},
   "source": [
    "# Data Science Capstone\n",
    "\n",
    "## Fantasy Football Projection Analysis and Start/Sit Recommender System\n",
    "\n",
    "### Elise Roberts Scruggs\n",
    "### Data Science Capstone - DATS 6501 - 80\n"
   ]
  },
  {
   "cell_type": "markdown",
   "id": "b323f2e0",
   "metadata": {},
   "source": [
    "App ID\n",
    "sBSeI0Q4\n",
    "\n",
    "\n",
    "Client ID (Consumer Key)\n",
    "dj0yJmk9UW1aT1dwQU5NS2tIJmQ9WVdrOWMwSlRaVWt3VVRRbWNHbzlNQT09JnM9Y29uc3VtZXJzZWNyZXQmc3Y9MCZ4PTE1\n",
    "\n",
    "\n",
    "Client Secret (Consumer Secret)\n",
    "565610d38cc54307b0445e92e8da74e0138412e6\n"
   ]
  },
  {
   "cell_type": "code",
   "execution_count": null,
   "id": "c625c6e8",
   "metadata": {},
   "outputs": [],
   "source": []
  }
 ],
 "metadata": {
  "kernelspec": {
   "display_name": "Python 3",
   "language": "python",
   "name": "python3"
  },
  "language_info": {
   "codemirror_mode": {
    "name": "ipython",
    "version": 3
   },
   "file_extension": ".py",
   "mimetype": "text/x-python",
   "name": "python",
   "nbconvert_exporter": "python",
   "pygments_lexer": "ipython3",
   "version": "3.8.8"
  }
 },
 "nbformat": 4,
 "nbformat_minor": 5
}
