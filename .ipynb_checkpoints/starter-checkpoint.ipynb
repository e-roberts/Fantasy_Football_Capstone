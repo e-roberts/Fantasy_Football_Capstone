{
 "cells": [
  {
   "cell_type": "markdown",
   "id": "39ff35f2",
   "metadata": {},
   "source": [
    "# Starter Yahoo! Fantasy Football API Connection"
   ]
  },
  {
   "cell_type": "code",
   "execution_count": 3,
   "id": "72b30a24",
   "metadata": {},
   "outputs": [],
   "source": [
    "import pandas as pd\n",
    "import numpy as np\n",
    "import seaborn as sns\n",
    "from matplotlib import pyplot as plt"
   ]
  },
  {
   "cell_type": "code",
   "execution_count": 4,
   "id": "b1cf533f",
   "metadata": {},
   "outputs": [
    {
     "name": "stdout",
     "output_type": "stream",
     "text": [
      "Collecting yahoo-fantasy-api\n",
      "  Downloading yahoo_fantasy_api-2.6.0.tar.gz (23 kB)\n",
      "Collecting objectpath\n",
      "  Downloading objectpath-0.6.1-py2.py3-none-any.whl (20 kB)\n",
      "Requirement already satisfied: pytz in c:\\users\\leand\\anaconda3.8\\lib\\site-packages (from yahoo-fantasy-api) (2021.1)\n",
      "Collecting yahoo_oauth\n",
      "  Downloading yahoo_oauth-2.0.tar.gz (10 kB)\n",
      "Collecting docopt\n",
      "  Downloading docopt-0.6.2.tar.gz (25 kB)\n",
      "Collecting pyaml\n",
      "  Downloading pyaml-21.10.1-py2.py3-none-any.whl (24 kB)\n",
      "Collecting rauth\n",
      "  Downloading rauth-0.7.3.tar.gz (16 kB)\n",
      "Requirement already satisfied: PyYAML in c:\\users\\leand\\anaconda3.8\\lib\\site-packages (from pyaml->yahoo_oauth->yahoo-fantasy-api) (5.4.1)\n",
      "Requirement already satisfied: requests>=1.2.3 in c:\\users\\leand\\anaconda3.8\\lib\\site-packages (from rauth->yahoo_oauth->yahoo-fantasy-api) (2.25.1)\n",
      "Requirement already satisfied: urllib3<1.27,>=1.21.1 in c:\\users\\leand\\anaconda3.8\\lib\\site-packages (from requests>=1.2.3->rauth->yahoo_oauth->yahoo-fantasy-api) (1.26.4)\n",
      "Requirement already satisfied: certifi>=2017.4.17 in c:\\users\\leand\\anaconda3.8\\lib\\site-packages (from requests>=1.2.3->rauth->yahoo_oauth->yahoo-fantasy-api) (2020.12.5)\n",
      "Requirement already satisfied: chardet<5,>=3.0.2 in c:\\users\\leand\\anaconda3.8\\lib\\site-packages (from requests>=1.2.3->rauth->yahoo_oauth->yahoo-fantasy-api) (4.0.0)\n",
      "Requirement already satisfied: idna<3,>=2.5 in c:\\users\\leand\\anaconda3.8\\lib\\site-packages (from requests>=1.2.3->rauth->yahoo_oauth->yahoo-fantasy-api) (2.10)\n",
      "Building wheels for collected packages: yahoo-fantasy-api, docopt, yahoo-oauth, rauth\n",
      "  Building wheel for yahoo-fantasy-api (setup.py): started\n",
      "  Building wheel for yahoo-fantasy-api (setup.py): finished with status 'done'\n",
      "  Created wheel for yahoo-fantasy-api: filename=yahoo_fantasy_api-2.6.0-py3-none-any.whl size=26079 sha256=906fdbb0498cb933513d334844319a0dbad52615bd027c765b420e2430341a61\n",
      "  Stored in directory: c:\\users\\leand\\appdata\\local\\pip\\cache\\wheels\\b0\\f9\\66\\a3d5ab1724622e10ffa0138960f2fd14aa134741c4fb58092f\n",
      "  Building wheel for docopt (setup.py): started\n",
      "  Building wheel for docopt (setup.py): finished with status 'done'\n",
      "  Created wheel for docopt: filename=docopt-0.6.2-py2.py3-none-any.whl size=13705 sha256=126e026ff886bdcd3c7adecb66b0984a3843d542673830fd4746bfad080af373\n",
      "  Stored in directory: c:\\users\\leand\\appdata\\local\\pip\\cache\\wheels\\56\\ea\\58\\ead137b087d9e326852a851351d1debf4ada529b6ac0ec4e8c\n",
      "  Building wheel for yahoo-oauth (setup.py): started\n",
      "  Building wheel for yahoo-oauth (setup.py): finished with status 'done'\n",
      "  Created wheel for yahoo-oauth: filename=yahoo_oauth-2.0-py3-none-any.whl size=8154 sha256=45a647362b227bac4639ea8d28b1ed76a0768d08f0edb05ca1b3856b0ec57fa6\n",
      "  Stored in directory: c:\\users\\leand\\appdata\\local\\pip\\cache\\wheels\\83\\8a\\86\\01c1befbc60037242828160672c326df4a65af0a79cd4d58ca\n",
      "  Building wheel for rauth (setup.py): started\n",
      "  Building wheel for rauth (setup.py): finished with status 'done'\n",
      "  Created wheel for rauth: filename=rauth-0.7.3-py3-none-any.whl size=16057 sha256=75f55168a08b31fec5daeea660afcb133d729677f3c688676b4549b09209783c\n",
      "  Stored in directory: c:\\users\\leand\\appdata\\local\\pip\\cache\\wheels\\12\\ba\\46\\fba7d3f89b3f871b076908875f0b61fa6fba64af01c7b53036\n",
      "Successfully built yahoo-fantasy-api docopt yahoo-oauth rauth\n",
      "Installing collected packages: rauth, pyaml, yahoo-oauth, objectpath, docopt, yahoo-fantasy-api\n",
      "Successfully installed docopt-0.6.2 objectpath-0.6.1 pyaml-21.10.1 rauth-0.7.3 yahoo-fantasy-api-2.6.0 yahoo-oauth-2.0\n",
      "Note: you may need to restart the kernel to use updated packages.\n"
     ]
    }
   ],
   "source": [
    "pip install yahoo-fantasy-api"
   ]
  },
  {
   "cell_type": "code",
   "execution_count": 11,
   "id": "e5926133",
   "metadata": {
    "scrolled": true
   },
   "outputs": [
    {
     "name": "stdout",
     "output_type": "stream",
     "text": [
      "Requirement already satisfied: yahoo-oauth in c:\\users\\leand\\anaconda3.8\\lib\\site-packages (2.0)\n",
      "Requirement already satisfied: pyaml in c:\\users\\leand\\anaconda3.8\\lib\\site-packages (from yahoo-oauth) (21.10.1)\n",
      "Requirement already satisfied: rauth in c:\\users\\leand\\anaconda3.8\\lib\\site-packages (from yahoo-oauth) (0.7.3)\n",
      "Requirement already satisfied: PyYAML in c:\\users\\leand\\anaconda3.8\\lib\\site-packages (from pyaml->yahoo-oauth) (5.4.1)\n",
      "Requirement already satisfied: requests>=1.2.3 in c:\\users\\leand\\anaconda3.8\\lib\\site-packages (from rauth->yahoo-oauth) (2.25.1)\n",
      "Requirement already satisfied: chardet<5,>=3.0.2 in c:\\users\\leand\\anaconda3.8\\lib\\site-packages (from requests>=1.2.3->rauth->yahoo-oauth) (4.0.0)\n",
      "Requirement already satisfied: urllib3<1.27,>=1.21.1 in c:\\users\\leand\\anaconda3.8\\lib\\site-packages (from requests>=1.2.3->rauth->yahoo-oauth) (1.26.4)\n",
      "Requirement already satisfied: certifi>=2017.4.17 in c:\\users\\leand\\anaconda3.8\\lib\\site-packages (from requests>=1.2.3->rauth->yahoo-oauth) (2020.12.5)\n",
      "Requirement already satisfied: idna<3,>=2.5 in c:\\users\\leand\\anaconda3.8\\lib\\site-packages (from requests>=1.2.3->rauth->yahoo-oauth) (2.10)\n",
      "Note: you may need to restart the kernel to use updated packages.\n"
     ]
    }
   ],
   "source": [
    "pip install yahoo-oauth"
   ]
  },
  {
   "cell_type": "code",
   "execution_count": 13,
   "id": "b957f89a",
   "metadata": {},
   "outputs": [],
   "source": [
    "from yahoo_oauth import OAuth2"
   ]
  },
  {
   "cell_type": "code",
   "execution_count": 14,
   "id": "550dd324",
   "metadata": {},
   "outputs": [],
   "source": [
    "import json\n",
    "from json import dumps\n",
    "import datetime"
   ]
  },
  {
   "cell_type": "code",
   "execution_count": 15,
   "id": "db70a043",
   "metadata": {},
   "outputs": [],
   "source": [
    "import yahoo_fantasy_api as yfa"
   ]
  },
  {
   "cell_type": "code",
   "execution_count": 17,
   "id": "d68acaa2",
   "metadata": {},
   "outputs": [
    {
     "name": "stderr",
     "output_type": "stream",
     "text": [
      "[2022-10-15 11:13:29,872 DEBUG] [yahoo_oauth.oauth.__init__] Checking \n",
      "[2022-10-15 11:13:29,877 DEBUG] [yahoo_oauth.oauth.handler] AUTHORIZATION URL : https://api.login.yahoo.com/oauth2/request_auth?redirect_uri=oob&response_type=code&client_id=dj0yJmk9UW1aT1dwQU5NS2tIJmQ9WVdrOWMwSlRaVWt3VVRRbWNHbzlNQT09JnM9Y29uc3VtZXJzZWNyZXQmc3Y9MCZ4PTE1\n"
     ]
    },
    {
     "name": "stdout",
     "output_type": "stream",
     "text": [
      "Enter verifier : mf6s3d7\n"
     ]
    }
   ],
   "source": [
    "sc = OAuth2(None, None, from_file='oauth2.json')"
   ]
  },
  {
   "cell_type": "code",
   "execution_count": 23,
   "id": "d319b3d0",
   "metadata": {},
   "outputs": [
    {
     "ename": "TypeError",
     "evalue": "__init__() missing 1 required positional argument: 'code'",
     "output_type": "error",
     "traceback": [
      "\u001b[1;31m---------------------------------------------------------------------------\u001b[0m",
      "\u001b[1;31mTypeError\u001b[0m                                 Traceback (most recent call last)",
      "\u001b[1;32m<ipython-input-23-f9360814758c>\u001b[0m in \u001b[0;36m<module>\u001b[1;34m\u001b[0m\n\u001b[1;32m----> 1\u001b[1;33m \u001b[0mgm\u001b[0m \u001b[1;33m=\u001b[0m \u001b[0myfa\u001b[0m\u001b[1;33m.\u001b[0m\u001b[0mGame\u001b[0m\u001b[1;33m(\u001b[0m \u001b[1;34m'nfl'\u001b[0m\u001b[1;33m)\u001b[0m\u001b[1;33m\u001b[0m\u001b[1;33m\u001b[0m\u001b[0m\n\u001b[0m",
      "\u001b[1;31mTypeError\u001b[0m: __init__() missing 1 required positional argument: 'code'"
     ]
    }
   ],
   "source": [
    "gm = yfa.Game( 'nfl')"
   ]
  },
  {
   "cell_type": "code",
   "execution_count": 10,
   "id": "3d9eb7d5",
   "metadata": {},
   "outputs": [
    {
     "ename": "ModuleNotFoundError",
     "evalue": "No module named 'nfl_stats'",
     "output_type": "error",
     "traceback": [
      "\u001b[1;31m---------------------------------------------------------------------------\u001b[0m",
      "\u001b[1;31mModuleNotFoundError\u001b[0m                       Traceback (most recent call last)",
      "\u001b[1;32m<ipython-input-10-ac979264b03c>\u001b[0m in \u001b[0;36m<module>\u001b[1;34m\u001b[0m\n\u001b[1;32m----> 1\u001b[1;33m \u001b[1;32mfrom\u001b[0m \u001b[0mnfl_stats\u001b[0m\u001b[1;33m.\u001b[0m\u001b[0mplayer\u001b[0m \u001b[1;32mimport\u001b[0m \u001b[0mQB\u001b[0m\u001b[1;33m\u001b[0m\u001b[1;33m\u001b[0m\u001b[0m\n\u001b[0m\u001b[0;32m      2\u001b[0m \u001b[1;33m\u001b[0m\u001b[0m\n\u001b[0;32m      3\u001b[0m \u001b[0mtb\u001b[0m \u001b[1;33m=\u001b[0m \u001b[0mQB\u001b[0m\u001b[1;33m(\u001b[0m\u001b[1;34m\"Tom Brady\"\u001b[0m\u001b[1;33m)\u001b[0m\u001b[1;33m\u001b[0m\u001b[1;33m\u001b[0m\u001b[0m\n\u001b[0;32m      4\u001b[0m \u001b[0mtb\u001b[0m\u001b[1;33m.\u001b[0m\u001b[0mset_stats\u001b[0m\u001b[1;33m(\u001b[0m\u001b[1;34m\"2017\"\u001b[0m\u001b[1;33m)\u001b[0m\u001b[1;33m\u001b[0m\u001b[1;33m\u001b[0m\u001b[0m\n\u001b[0;32m      5\u001b[0m \u001b[0mtb\u001b[0m\u001b[1;33m.\u001b[0m\u001b[0mprint_stats\u001b[0m\u001b[1;33m(\u001b[0m\u001b[1;33m)\u001b[0m\u001b[1;33m\u001b[0m\u001b[1;33m\u001b[0m\u001b[0m\n",
      "\u001b[1;31mModuleNotFoundError\u001b[0m: No module named 'nfl_stats'"
     ]
    }
   ],
   "source": [
    "from nfl_stats.player import QB\n",
    "\n",
    "tb = QB(\"Tom Brady\")\n",
    "tb.set_stats(\"2017\")\n",
    "tb.print_stats()"
   ]
  },
  {
   "cell_type": "code",
   "execution_count": null,
   "id": "b637e200",
   "metadata": {},
   "outputs": [],
   "source": []
  }
 ],
 "metadata": {
  "kernelspec": {
   "display_name": "Python 3",
   "language": "python",
   "name": "python3"
  },
  "language_info": {
   "codemirror_mode": {
    "name": "ipython",
    "version": 3
   },
   "file_extension": ".py",
   "mimetype": "text/x-python",
   "name": "python",
   "nbconvert_exporter": "python",
   "pygments_lexer": "ipython3",
   "version": "3.8.8"
  }
 },
 "nbformat": 4,
 "nbformat_minor": 5
}
