{
 "cells": [
  {
   "cell_type": "markdown",
   "id": "39ff35f2",
   "metadata": {},
   "source": [
    "# Starter Yahoo! Fantasy Football API Connection"
   ]
  },
  {
   "cell_type": "code",
   "execution_count": 1,
   "id": "72b30a24",
   "metadata": {},
   "outputs": [],
   "source": [
    "# import preliminary libraries\n",
    "import pandas as pd\n",
    "import numpy as np\n",
    "import seaborn as sns\n",
    "from matplotlib import pyplot as plt"
   ]
  },
  {
   "cell_type": "code",
   "execution_count": 6,
   "id": "b1cf533f",
   "metadata": {},
   "outputs": [
    {
     "ename": "SyntaxError",
     "evalue": "invalid syntax (<ipython-input-6-72f44f0e631c>, line 2)",
     "output_type": "error",
     "traceback": [
      "\u001b[1;36m  File \u001b[1;32m\"<ipython-input-6-72f44f0e631c>\"\u001b[1;36m, line \u001b[1;32m2\u001b[0m\n\u001b[1;33m    pip install yahoo-fantasy-api\u001b[0m\n\u001b[1;37m        ^\u001b[0m\n\u001b[1;31mSyntaxError\u001b[0m\u001b[1;31m:\u001b[0m invalid syntax\n"
     ]
    }
   ],
   "source": [
    "# install api connection\n",
    "pip install yahoo-fantasy-api"
   ]
  },
  {
   "cell_type": "code",
   "execution_count": 4,
   "id": "db70a043",
   "metadata": {},
   "outputs": [],
   "source": [
    "# import api and name yfan\n",
    "import yahoo_fantasy_api as yfan"
   ]
  },
  {
   "cell_type": "code",
   "execution_count": 8,
   "id": "75ea4f14",
   "metadata": {
    "scrolled": true
   },
   "outputs": [
    {
     "ename": "SyntaxError",
     "evalue": "invalid syntax (<ipython-input-8-baaa596e231f>, line 2)",
     "output_type": "error",
     "traceback": [
      "\u001b[1;36m  File \u001b[1;32m\"<ipython-input-8-baaa596e231f>\"\u001b[1;36m, line \u001b[1;32m2\u001b[0m\n\u001b[1;33m    pip install yahoo-oauth\u001b[0m\n\u001b[1;37m        ^\u001b[0m\n\u001b[1;31mSyntaxError\u001b[0m\u001b[1;31m:\u001b[0m invalid syntax\n"
     ]
    }
   ],
   "source": [
    "# install yahoo! authorization\n",
    "pip install yahoo-oauth"
   ]
  },
  {
   "cell_type": "code",
   "execution_count": 9,
   "id": "b957f89a",
   "metadata": {},
   "outputs": [],
   "source": [
    "# connect to OAuth2\n",
    "from yahoo_oauth import OAuth2"
   ]
  },
  {
   "cell_type": "code",
   "execution_count": 10,
   "id": "550dd324",
   "metadata": {},
   "outputs": [],
   "source": [
    "# import json handling packages\n",
    "import json\n",
    "from json import dumps\n",
    "import datetime"
   ]
  },
  {
   "cell_type": "code",
   "execution_count": 12,
   "id": "d68acaa2",
   "metadata": {},
   "outputs": [
    {
     "name": "stderr",
     "output_type": "stream",
     "text": [
      "[2022-10-16 10:52:06,807 DEBUG] [yahoo_oauth.oauth.__init__] Checking \n",
      "[2022-10-16 10:52:06,809 DEBUG] [yahoo_oauth.oauth.token_is_valid] ELAPSED TIME : 12.594635248184204\n",
      "[2022-10-16 10:52:06,809 DEBUG] [yahoo_oauth.oauth.token_is_valid] TOKEN IS STILL VALID\n"
     ]
    }
   ],
   "source": [
    "# connect to json file with Yahoo! authorization key and add verifier\n",
    "sc = OAuth2(None, None, from_file='oauth2.json')"
   ]
  },
  {
   "cell_type": "code",
   "execution_count": 13,
   "id": "9ddf76b2",
   "metadata": {
    "scrolled": true
   },
   "outputs": [
    {
     "ename": "SyntaxError",
     "evalue": "invalid syntax (<ipython-input-13-a2de4bd7b285>, line 2)",
     "output_type": "error",
     "traceback": [
      "\u001b[1;36m  File \u001b[1;32m\"<ipython-input-13-a2de4bd7b285>\"\u001b[1;36m, line \u001b[1;32m2\u001b[0m\n\u001b[1;33m    pip install --upgrade --user pyqt5==5.13\u001b[0m\n\u001b[1;37m        ^\u001b[0m\n\u001b[1;31mSyntaxError\u001b[0m\u001b[1;31m:\u001b[0m invalid syntax\n"
     ]
    }
   ],
   "source": [
    "# upgrade packages for wrapper\n",
    "pip install --upgrade --user pyqt5==5.13"
   ]
  },
  {
   "cell_type": "code",
   "execution_count": 14,
   "id": "2a2c90af",
   "metadata": {
    "scrolled": true
   },
   "outputs": [
    {
     "ename": "SyntaxError",
     "evalue": "invalid syntax (<ipython-input-14-52996b8103ab>, line 2)",
     "output_type": "error",
     "traceback": [
      "\u001b[1;36m  File \u001b[1;32m\"<ipython-input-14-52996b8103ab>\"\u001b[1;36m, line \u001b[1;32m2\u001b[0m\n\u001b[1;33m    pip install --upgrade --user pyqtwebengine==5.13\u001b[0m\n\u001b[1;37m        ^\u001b[0m\n\u001b[1;31mSyntaxError\u001b[0m\u001b[1;31m:\u001b[0m invalid syntax\n"
     ]
    }
   ],
   "source": [
    "# upgrade packages for wrapper\n",
    "pip install --upgrade --user pyqtwebengine==5.13"
   ]
  },
  {
   "cell_type": "code",
   "execution_count": null,
   "id": "ee2d491d",
   "metadata": {},
   "outputs": [],
   "source": [
    "# install pathlib for wrapper\n",
    "pip install pathlib"
   ]
  },
  {
   "cell_type": "code",
   "execution_count": null,
   "id": "8092a15c",
   "metadata": {},
   "outputs": [],
   "source": [
    "# install package for wrapper\n",
    "pip install ruamel-yaml"
   ]
  },
  {
   "cell_type": "code",
   "execution_count": null,
   "id": "d319b3d0",
   "metadata": {
    "scrolled": true
   },
   "outputs": [],
   "source": [
    "#install wrapper package\n",
    "pip install yfpy"
   ]
  },
  {
   "cell_type": "code",
   "execution_count": null,
   "id": "428ef66d",
   "metadata": {},
   "outputs": [],
   "source": []
  },
  {
   "cell_type": "code",
   "execution_count": null,
   "id": "30bce186",
   "metadata": {},
   "outputs": [],
   "source": []
  },
  {
   "cell_type": "code",
   "execution_count": null,
   "id": "dca96d0a",
   "metadata": {},
   "outputs": [],
   "source": []
  },
  {
   "cell_type": "code",
   "execution_count": null,
   "id": "fb3d14ed",
   "metadata": {},
   "outputs": [],
   "source": []
  }
 ],
 "metadata": {
  "kernelspec": {
   "display_name": "Python 3",
   "language": "python",
   "name": "python3"
  },
  "language_info": {
   "codemirror_mode": {
    "name": "ipython",
    "version": 3
   },
   "file_extension": ".py",
   "mimetype": "text/x-python",
   "name": "python",
   "nbconvert_exporter": "python",
   "pygments_lexer": "ipython3",
   "version": "3.8.8"
  }
 },
 "nbformat": 4,
 "nbformat_minor": 5
}
