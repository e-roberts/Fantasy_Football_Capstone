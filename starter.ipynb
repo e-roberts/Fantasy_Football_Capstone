{
 "cells": [
  {
   "cell_type": "markdown",
   "id": "39ff35f2",
   "metadata": {},
   "source": [
    "# Starter Yahoo! Fantasy Football API Connection"
   ]
  },
  {
   "cell_type": "code",
   "execution_count": 5,
   "id": "72b30a24",
   "metadata": {},
   "outputs": [],
   "source": [
    "import pandas as pd\n",
    "import numpy as np\n",
    "import seaborn as sns\n",
    "from matplotlib import pyplot as plt"
   ]
  },
  {
   "cell_type": "code",
   "execution_count": 8,
   "id": "b1cf533f",
   "metadata": {},
   "outputs": [
    {
     "name": "stdout",
     "output_type": "stream",
     "text": [
      "Collecting yahoo-fantasy-api\n",
      "  Downloading yahoo_fantasy_api-2.5.1.tar.gz (23 kB)\n",
      "Collecting objectpath\n",
      "  Downloading objectpath-0.6.1-py2.py3-none-any.whl (20 kB)\n",
      "Requirement already satisfied: pytz in c:\\users\\eroberts22\\anaconda3\\lib\\site-packages (from yahoo-fantasy-api) (2021.3)\n",
      "Collecting yahoo_oauth\n",
      "  Downloading yahoo_oauth-2.0.tar.gz (10 kB)\n",
      "Collecting docopt\n",
      "  Downloading docopt-0.6.2.tar.gz (25 kB)\n",
      "Collecting pyaml\n",
      "  Downloading pyaml-21.10.1-py2.py3-none-any.whl (24 kB)\n",
      "Collecting rauth\n",
      "  Downloading rauth-0.7.3.tar.gz (16 kB)\n",
      "Note: you may need to restart the kernel to use updated packages.\n",
      "Requirement already satisfied: PyYAML in c:\\users\\eroberts22\\anaconda3\\lib\\site-packages (from pyaml->yahoo_oauth->yahoo-fantasy-api) (6.0)\n",
      "Requirement already satisfied: requests>=1.2.3 in c:\\users\\eroberts22\\anaconda3\\lib\\site-packages (from rauth->yahoo_oauth->yahoo-fantasy-api) (2.26.0)\n",
      "Requirement already satisfied: idna<4,>=2.5 in c:\\users\\eroberts22\\anaconda3\\lib\\site-packages (from requests>=1.2.3->rauth->yahoo_oauth->yahoo-fantasy-api) (3.2)\n",
      "Requirement already satisfied: charset-normalizer~=2.0.0 in c:\\users\\eroberts22\\anaconda3\\lib\\site-packages (from requests>=1.2.3->rauth->yahoo_oauth->yahoo-fantasy-api) (2.0.4)\n",
      "Requirement already satisfied: urllib3<1.27,>=1.21.1 in c:\\users\\eroberts22\\anaconda3\\lib\\site-packages (from requests>=1.2.3->rauth->yahoo_oauth->yahoo-fantasy-api) (1.26.7)\n",
      "Requirement already satisfied: certifi>=2017.4.17 in c:\\users\\eroberts22\\anaconda3\\lib\\site-packages (from requests>=1.2.3->rauth->yahoo_oauth->yahoo-fantasy-api) (2021.10.8)\n",
      "Building wheels for collected packages: yahoo-fantasy-api, docopt, yahoo-oauth, rauth\n",
      "  Building wheel for yahoo-fantasy-api (setup.py): started\n",
      "  Building wheel for yahoo-fantasy-api (setup.py): finished with status 'done'\n",
      "  Created wheel for yahoo-fantasy-api: filename=yahoo_fantasy_api-2.5.1-py3-none-any.whl size=25138 sha256=d28d2ae153f3305deb68f4f398b4e3234992aa8ec2841d9d6f70f075d1ddea59\n",
      "  Stored in directory: c:\\users\\eroberts22\\appdata\\local\\pip\\cache\\wheels\\70\\17\\75\\f7ef98ec5e913ce8c4f21da546b725ea9108cb584f1c577884\n",
      "  Building wheel for docopt (setup.py): started\n",
      "  Building wheel for docopt (setup.py): finished with status 'done'\n",
      "  Created wheel for docopt: filename=docopt-0.6.2-py2.py3-none-any.whl size=13724 sha256=ba42aa178e3f5e4dba5e76cc0845da5afc7d91a5621b4bc7f077573f6f051974\n",
      "  Stored in directory: c:\\users\\eroberts22\\appdata\\local\\pip\\cache\\wheels\\70\\4a\\46\\1309fc853b8d395e60bafaf1b6df7845bdd82c95fd59dd8d2b\n",
      "  Building wheel for yahoo-oauth (setup.py): started\n",
      "  Building wheel for yahoo-oauth (setup.py): finished with status 'done'\n",
      "  Created wheel for yahoo-oauth: filename=yahoo_oauth-2.0-py3-none-any.whl size=8168 sha256=6aa038fa73dcde14471384f65486c55928d0ad501bad484c9d0257a9a9b95763\n",
      "  Stored in directory: c:\\users\\eroberts22\\appdata\\local\\pip\\cache\\wheels\\1b\\d9\\d3\\f85e358b284b97da06f2deda662b75723e9f1dd25fa593801d\n",
      "  Building wheel for rauth (setup.py): started\n",
      "  Building wheel for rauth (setup.py): finished with status 'done'\n",
      "  Created wheel for rauth: filename=rauth-0.7.3-py3-none-any.whl size=16081 sha256=19ee5b68434c59b0b99e710c12af69d23f89bf7c71293444eb7654455c863247\n",
      "  Stored in directory: c:\\users\\eroberts22\\appdata\\local\\pip\\cache\\wheels\\e8\\bf\\f8\\fe5ecf3f58dd944bdf853ce2d995b3dddef2a2fea48d1f84bc\n",
      "Successfully built yahoo-fantasy-api docopt yahoo-oauth rauth\n",
      "Installing collected packages: rauth, pyaml, yahoo-oauth, objectpath, docopt, yahoo-fantasy-api\n",
      "Successfully installed docopt-0.6.2 objectpath-0.6.1 pyaml-21.10.1 rauth-0.7.3 yahoo-fantasy-api-2.5.1 yahoo-oauth-2.0\n"
     ]
    }
   ],
   "source": [
    "pip install yahoo-fantasy-api"
   ]
  },
  {
   "cell_type": "code",
   "execution_count": 9,
   "id": "b957f89a",
   "metadata": {},
   "outputs": [],
   "source": [
    "from yahoo_oauth import OAuth2"
   ]
  },
  {
   "cell_type": "code",
   "execution_count": 10,
   "id": "550dd324",
   "metadata": {},
   "outputs": [],
   "source": [
    "import json\n",
    "from json import dumps\n",
    "import datetime\n"
   ]
  },
  {
   "cell_type": "code",
   "execution_count": 11,
   "id": "db70a043",
   "metadata": {},
   "outputs": [],
   "source": [
    "import yahoo_fantasy_api as yfa"
   ]
  },
  {
   "cell_type": "code",
   "execution_count": 12,
   "id": "d68acaa2",
   "metadata": {},
   "outputs": [
    {
     "name": "stderr",
     "output_type": "stream",
     "text": [
      "[2022-10-10 17:23:36,886 DEBUG] [yahoo_oauth.oauth.__init__] Checking \n"
     ]
    },
    {
     "ename": "FileNotFoundError",
     "evalue": "[Errno 2] No such file or directory: 'examples/oauth2.json'",
     "output_type": "error",
     "traceback": [
      "\u001b[1;31m---------------------------------------------------------------------------\u001b[0m",
      "\u001b[1;31mFileNotFoundError\u001b[0m                         Traceback (most recent call last)",
      "\u001b[1;32mC:\\Users\\EROBER~1\\AppData\\Local\\Temp/ipykernel_12640/998254707.py\u001b[0m in \u001b[0;36m<module>\u001b[1;34m\u001b[0m\n\u001b[1;32m----> 1\u001b[1;33m \u001b[0msc\u001b[0m \u001b[1;33m=\u001b[0m \u001b[0mOAuth2\u001b[0m\u001b[1;33m(\u001b[0m\u001b[1;32mNone\u001b[0m\u001b[1;33m,\u001b[0m \u001b[1;32mNone\u001b[0m\u001b[1;33m,\u001b[0m \u001b[0mfrom_file\u001b[0m\u001b[1;33m=\u001b[0m\u001b[1;34m'examples/oauth2.json'\u001b[0m\u001b[1;33m)\u001b[0m\u001b[1;33m\u001b[0m\u001b[1;33m\u001b[0m\u001b[0m\n\u001b[0m",
      "\u001b[1;32m~\\Anaconda3\\lib\\site-packages\\yahoo_oauth\\oauth.py\u001b[0m in \u001b[0;36m__init__\u001b[1;34m(self, consumer_key, consumer_secret, **kwargs)\u001b[0m\n\u001b[0;32m    234\u001b[0m \u001b[1;33m\u001b[0m\u001b[0m\n\u001b[0;32m    235\u001b[0m     \u001b[1;32mdef\u001b[0m \u001b[0m__init__\u001b[0m\u001b[1;33m(\u001b[0m\u001b[0mself\u001b[0m\u001b[1;33m,\u001b[0m \u001b[0mconsumer_key\u001b[0m\u001b[1;33m,\u001b[0m \u001b[0mconsumer_secret\u001b[0m\u001b[1;33m,\u001b[0m \u001b[1;33m**\u001b[0m\u001b[0mkwargs\u001b[0m\u001b[1;33m)\u001b[0m\u001b[1;33m:\u001b[0m\u001b[1;33m\u001b[0m\u001b[1;33m\u001b[0m\u001b[0m\n\u001b[1;32m--> 236\u001b[1;33m         \u001b[0msuper\u001b[0m\u001b[1;33m(\u001b[0m\u001b[0mOAuth2\u001b[0m\u001b[1;33m,\u001b[0m \u001b[0mself\u001b[0m\u001b[1;33m)\u001b[0m\u001b[1;33m.\u001b[0m\u001b[0m__init__\u001b[0m\u001b[1;33m(\u001b[0m\u001b[1;34m'oauth2'\u001b[0m\u001b[1;33m,\u001b[0m \u001b[0mconsumer_key\u001b[0m\u001b[1;33m,\u001b[0m \u001b[0mconsumer_secret\u001b[0m\u001b[1;33m,\u001b[0m \u001b[1;33m**\u001b[0m\u001b[0mkwargs\u001b[0m\u001b[1;33m)\u001b[0m\u001b[1;33m\u001b[0m\u001b[1;33m\u001b[0m\u001b[0m\n\u001b[0m",
      "\u001b[1;32m~\\Anaconda3\\lib\\site-packages\\yahoo_oauth\\oauth.py\u001b[0m in \u001b[0;36m__init__\u001b[1;34m(self, oauth_version, consumer_key, consumer_secret, **kwargs)\u001b[0m\n\u001b[0;32m     44\u001b[0m             \u001b[0mlogger\u001b[0m\u001b[1;33m.\u001b[0m\u001b[0mdebug\u001b[0m\u001b[1;33m(\u001b[0m\u001b[1;34m\"Checking \"\u001b[0m\u001b[1;33m)\u001b[0m\u001b[1;33m\u001b[0m\u001b[1;33m\u001b[0m\u001b[0m\n\u001b[0;32m     45\u001b[0m             \u001b[0mself\u001b[0m\u001b[1;33m.\u001b[0m\u001b[0mfrom_file\u001b[0m \u001b[1;33m=\u001b[0m \u001b[0mkwargs\u001b[0m\u001b[1;33m.\u001b[0m\u001b[0mget\u001b[0m\u001b[1;33m(\u001b[0m\u001b[1;34m'from_file'\u001b[0m\u001b[1;33m)\u001b[0m\u001b[1;33m\u001b[0m\u001b[1;33m\u001b[0m\u001b[0m\n\u001b[1;32m---> 46\u001b[1;33m             \u001b[0mdata\u001b[0m \u001b[1;33m=\u001b[0m \u001b[0mget_data\u001b[0m\u001b[1;33m(\u001b[0m\u001b[0mself\u001b[0m\u001b[1;33m.\u001b[0m\u001b[0mfrom_file\u001b[0m\u001b[1;33m)\u001b[0m\u001b[1;33m\u001b[0m\u001b[1;33m\u001b[0m\u001b[0m\n\u001b[0m\u001b[0;32m     47\u001b[0m             \u001b[0mvars\u001b[0m\u001b[1;33m(\u001b[0m\u001b[0mself\u001b[0m\u001b[1;33m)\u001b[0m\u001b[1;33m.\u001b[0m\u001b[0mupdate\u001b[0m\u001b[1;33m(\u001b[0m\u001b[0mdata\u001b[0m\u001b[1;33m)\u001b[0m\u001b[1;33m\u001b[0m\u001b[1;33m\u001b[0m\u001b[0m\n\u001b[0;32m     48\u001b[0m         \u001b[1;32melse\u001b[0m\u001b[1;33m:\u001b[0m\u001b[1;33m\u001b[0m\u001b[1;33m\u001b[0m\u001b[0m\n",
      "\u001b[1;32m~\\Anaconda3\\lib\\site-packages\\yahoo_oauth\\utils.py\u001b[0m in \u001b[0;36mget_data\u001b[1;34m(filename)\u001b[0m\n\u001b[0;32m     34\u001b[0m     \u001b[0mname\u001b[0m\u001b[1;33m,\u001b[0m \u001b[0mext\u001b[0m \u001b[1;33m=\u001b[0m \u001b[0mget_file_extension\u001b[0m\u001b[1;33m(\u001b[0m\u001b[0mfilename\u001b[0m\u001b[1;33m)\u001b[0m\u001b[1;33m\u001b[0m\u001b[1;33m\u001b[0m\u001b[0m\n\u001b[0;32m     35\u001b[0m     \u001b[0mfunc\u001b[0m \u001b[1;33m=\u001b[0m \u001b[0mjson_get_data\u001b[0m \u001b[1;32mif\u001b[0m \u001b[0mext\u001b[0m \u001b[1;33m==\u001b[0m \u001b[1;34m'.json'\u001b[0m \u001b[1;32melse\u001b[0m \u001b[0myaml_get_data\u001b[0m\u001b[1;33m\u001b[0m\u001b[1;33m\u001b[0m\u001b[0m\n\u001b[1;32m---> 36\u001b[1;33m     \u001b[1;32mreturn\u001b[0m \u001b[0mfunc\u001b[0m\u001b[1;33m(\u001b[0m\u001b[0mfilename\u001b[0m\u001b[1;33m)\u001b[0m\u001b[1;33m\u001b[0m\u001b[1;33m\u001b[0m\u001b[0m\n\u001b[0m\u001b[0;32m     37\u001b[0m \u001b[1;33m\u001b[0m\u001b[0m\n\u001b[0;32m     38\u001b[0m \u001b[1;32mdef\u001b[0m \u001b[0mwrite_data\u001b[0m\u001b[1;33m(\u001b[0m\u001b[0mdata\u001b[0m\u001b[1;33m,\u001b[0m \u001b[0mfilename\u001b[0m\u001b[1;33m)\u001b[0m\u001b[1;33m:\u001b[0m\u001b[1;33m\u001b[0m\u001b[1;33m\u001b[0m\u001b[0m\n",
      "\u001b[1;32m~\\Anaconda3\\lib\\site-packages\\yahoo_oauth\\utils.py\u001b[0m in \u001b[0;36mjson_get_data\u001b[1;34m(filename)\u001b[0m\n\u001b[0;32m     54\u001b[0m     \"\"\"Get data from json file\n\u001b[0;32m     55\u001b[0m     \"\"\"\n\u001b[1;32m---> 56\u001b[1;33m     \u001b[1;32mwith\u001b[0m \u001b[0mopen\u001b[0m\u001b[1;33m(\u001b[0m\u001b[0mfilename\u001b[0m\u001b[1;33m)\u001b[0m \u001b[1;32mas\u001b[0m \u001b[0mfp\u001b[0m\u001b[1;33m:\u001b[0m\u001b[1;33m\u001b[0m\u001b[1;33m\u001b[0m\u001b[0m\n\u001b[0m\u001b[0;32m     57\u001b[0m         \u001b[0mjson_data\u001b[0m \u001b[1;33m=\u001b[0m \u001b[0mjson\u001b[0m\u001b[1;33m.\u001b[0m\u001b[0mload\u001b[0m\u001b[1;33m(\u001b[0m\u001b[0mfp\u001b[0m\u001b[1;33m)\u001b[0m\u001b[1;33m\u001b[0m\u001b[1;33m\u001b[0m\u001b[0m\n\u001b[0;32m     58\u001b[0m         \u001b[1;32mreturn\u001b[0m \u001b[0mjson_data\u001b[0m\u001b[1;33m\u001b[0m\u001b[1;33m\u001b[0m\u001b[0m\n",
      "\u001b[1;31mFileNotFoundError\u001b[0m: [Errno 2] No such file or directory: 'examples/oauth2.json'"
     ]
    }
   ],
   "source": [
    "sc = OAuth2(None, None, from_file='examples/oauth2.json')"
   ]
  },
  {
   "cell_type": "code",
   "execution_count": 13,
   "id": "8f87e46e",
   "metadata": {},
   "outputs": [
    {
     "name": "stderr",
     "output_type": "stream",
     "text": [
      "[2022-10-10 17:24:30,761 DEBUG] [yahoo_oauth.oauth.__init__] Checking \n"
     ]
    },
    {
     "ename": "FileNotFoundError",
     "evalue": "[Errno 2] No such file or directory: 'examples/oauth2.json'",
     "output_type": "error",
     "traceback": [
      "\u001b[1;31m---------------------------------------------------------------------------\u001b[0m",
      "\u001b[1;31mFileNotFoundError\u001b[0m                         Traceback (most recent call last)",
      "\u001b[1;32mC:\\Users\\EROBER~1\\AppData\\Local\\Temp/ipykernel_12640/998254707.py\u001b[0m in \u001b[0;36m<module>\u001b[1;34m\u001b[0m\n\u001b[1;32m----> 1\u001b[1;33m \u001b[0msc\u001b[0m \u001b[1;33m=\u001b[0m \u001b[0mOAuth2\u001b[0m\u001b[1;33m(\u001b[0m\u001b[1;32mNone\u001b[0m\u001b[1;33m,\u001b[0m \u001b[1;32mNone\u001b[0m\u001b[1;33m,\u001b[0m \u001b[0mfrom_file\u001b[0m\u001b[1;33m=\u001b[0m\u001b[1;34m'examples/oauth2.json'\u001b[0m\u001b[1;33m)\u001b[0m\u001b[1;33m\u001b[0m\u001b[1;33m\u001b[0m\u001b[0m\n\u001b[0m",
      "\u001b[1;32m~\\Anaconda3\\lib\\site-packages\\yahoo_oauth\\oauth.py\u001b[0m in \u001b[0;36m__init__\u001b[1;34m(self, consumer_key, consumer_secret, **kwargs)\u001b[0m\n\u001b[0;32m    234\u001b[0m \u001b[1;33m\u001b[0m\u001b[0m\n\u001b[0;32m    235\u001b[0m     \u001b[1;32mdef\u001b[0m \u001b[0m__init__\u001b[0m\u001b[1;33m(\u001b[0m\u001b[0mself\u001b[0m\u001b[1;33m,\u001b[0m \u001b[0mconsumer_key\u001b[0m\u001b[1;33m,\u001b[0m \u001b[0mconsumer_secret\u001b[0m\u001b[1;33m,\u001b[0m \u001b[1;33m**\u001b[0m\u001b[0mkwargs\u001b[0m\u001b[1;33m)\u001b[0m\u001b[1;33m:\u001b[0m\u001b[1;33m\u001b[0m\u001b[1;33m\u001b[0m\u001b[0m\n\u001b[1;32m--> 236\u001b[1;33m         \u001b[0msuper\u001b[0m\u001b[1;33m(\u001b[0m\u001b[0mOAuth2\u001b[0m\u001b[1;33m,\u001b[0m \u001b[0mself\u001b[0m\u001b[1;33m)\u001b[0m\u001b[1;33m.\u001b[0m\u001b[0m__init__\u001b[0m\u001b[1;33m(\u001b[0m\u001b[1;34m'oauth2'\u001b[0m\u001b[1;33m,\u001b[0m \u001b[0mconsumer_key\u001b[0m\u001b[1;33m,\u001b[0m \u001b[0mconsumer_secret\u001b[0m\u001b[1;33m,\u001b[0m \u001b[1;33m**\u001b[0m\u001b[0mkwargs\u001b[0m\u001b[1;33m)\u001b[0m\u001b[1;33m\u001b[0m\u001b[1;33m\u001b[0m\u001b[0m\n\u001b[0m",
      "\u001b[1;32m~\\Anaconda3\\lib\\site-packages\\yahoo_oauth\\oauth.py\u001b[0m in \u001b[0;36m__init__\u001b[1;34m(self, oauth_version, consumer_key, consumer_secret, **kwargs)\u001b[0m\n\u001b[0;32m     44\u001b[0m             \u001b[0mlogger\u001b[0m\u001b[1;33m.\u001b[0m\u001b[0mdebug\u001b[0m\u001b[1;33m(\u001b[0m\u001b[1;34m\"Checking \"\u001b[0m\u001b[1;33m)\u001b[0m\u001b[1;33m\u001b[0m\u001b[1;33m\u001b[0m\u001b[0m\n\u001b[0;32m     45\u001b[0m             \u001b[0mself\u001b[0m\u001b[1;33m.\u001b[0m\u001b[0mfrom_file\u001b[0m \u001b[1;33m=\u001b[0m \u001b[0mkwargs\u001b[0m\u001b[1;33m.\u001b[0m\u001b[0mget\u001b[0m\u001b[1;33m(\u001b[0m\u001b[1;34m'from_file'\u001b[0m\u001b[1;33m)\u001b[0m\u001b[1;33m\u001b[0m\u001b[1;33m\u001b[0m\u001b[0m\n\u001b[1;32m---> 46\u001b[1;33m             \u001b[0mdata\u001b[0m \u001b[1;33m=\u001b[0m \u001b[0mget_data\u001b[0m\u001b[1;33m(\u001b[0m\u001b[0mself\u001b[0m\u001b[1;33m.\u001b[0m\u001b[0mfrom_file\u001b[0m\u001b[1;33m)\u001b[0m\u001b[1;33m\u001b[0m\u001b[1;33m\u001b[0m\u001b[0m\n\u001b[0m\u001b[0;32m     47\u001b[0m             \u001b[0mvars\u001b[0m\u001b[1;33m(\u001b[0m\u001b[0mself\u001b[0m\u001b[1;33m)\u001b[0m\u001b[1;33m.\u001b[0m\u001b[0mupdate\u001b[0m\u001b[1;33m(\u001b[0m\u001b[0mdata\u001b[0m\u001b[1;33m)\u001b[0m\u001b[1;33m\u001b[0m\u001b[1;33m\u001b[0m\u001b[0m\n\u001b[0;32m     48\u001b[0m         \u001b[1;32melse\u001b[0m\u001b[1;33m:\u001b[0m\u001b[1;33m\u001b[0m\u001b[1;33m\u001b[0m\u001b[0m\n",
      "\u001b[1;32m~\\Anaconda3\\lib\\site-packages\\yahoo_oauth\\utils.py\u001b[0m in \u001b[0;36mget_data\u001b[1;34m(filename)\u001b[0m\n\u001b[0;32m     34\u001b[0m     \u001b[0mname\u001b[0m\u001b[1;33m,\u001b[0m \u001b[0mext\u001b[0m \u001b[1;33m=\u001b[0m \u001b[0mget_file_extension\u001b[0m\u001b[1;33m(\u001b[0m\u001b[0mfilename\u001b[0m\u001b[1;33m)\u001b[0m\u001b[1;33m\u001b[0m\u001b[1;33m\u001b[0m\u001b[0m\n\u001b[0;32m     35\u001b[0m     \u001b[0mfunc\u001b[0m \u001b[1;33m=\u001b[0m \u001b[0mjson_get_data\u001b[0m \u001b[1;32mif\u001b[0m \u001b[0mext\u001b[0m \u001b[1;33m==\u001b[0m \u001b[1;34m'.json'\u001b[0m \u001b[1;32melse\u001b[0m \u001b[0myaml_get_data\u001b[0m\u001b[1;33m\u001b[0m\u001b[1;33m\u001b[0m\u001b[0m\n\u001b[1;32m---> 36\u001b[1;33m     \u001b[1;32mreturn\u001b[0m \u001b[0mfunc\u001b[0m\u001b[1;33m(\u001b[0m\u001b[0mfilename\u001b[0m\u001b[1;33m)\u001b[0m\u001b[1;33m\u001b[0m\u001b[1;33m\u001b[0m\u001b[0m\n\u001b[0m\u001b[0;32m     37\u001b[0m \u001b[1;33m\u001b[0m\u001b[0m\n\u001b[0;32m     38\u001b[0m \u001b[1;32mdef\u001b[0m \u001b[0mwrite_data\u001b[0m\u001b[1;33m(\u001b[0m\u001b[0mdata\u001b[0m\u001b[1;33m,\u001b[0m \u001b[0mfilename\u001b[0m\u001b[1;33m)\u001b[0m\u001b[1;33m:\u001b[0m\u001b[1;33m\u001b[0m\u001b[1;33m\u001b[0m\u001b[0m\n",
      "\u001b[1;32m~\\Anaconda3\\lib\\site-packages\\yahoo_oauth\\utils.py\u001b[0m in \u001b[0;36mjson_get_data\u001b[1;34m(filename)\u001b[0m\n\u001b[0;32m     54\u001b[0m     \"\"\"Get data from json file\n\u001b[0;32m     55\u001b[0m     \"\"\"\n\u001b[1;32m---> 56\u001b[1;33m     \u001b[1;32mwith\u001b[0m \u001b[0mopen\u001b[0m\u001b[1;33m(\u001b[0m\u001b[0mfilename\u001b[0m\u001b[1;33m)\u001b[0m \u001b[1;32mas\u001b[0m \u001b[0mfp\u001b[0m\u001b[1;33m:\u001b[0m\u001b[1;33m\u001b[0m\u001b[1;33m\u001b[0m\u001b[0m\n\u001b[0m\u001b[0;32m     57\u001b[0m         \u001b[0mjson_data\u001b[0m \u001b[1;33m=\u001b[0m \u001b[0mjson\u001b[0m\u001b[1;33m.\u001b[0m\u001b[0mload\u001b[0m\u001b[1;33m(\u001b[0m\u001b[0mfp\u001b[0m\u001b[1;33m)\u001b[0m\u001b[1;33m\u001b[0m\u001b[1;33m\u001b[0m\u001b[0m\n\u001b[0;32m     58\u001b[0m         \u001b[1;32mreturn\u001b[0m \u001b[0mjson_data\u001b[0m\u001b[1;33m\u001b[0m\u001b[1;33m\u001b[0m\u001b[0m\n",
      "\u001b[1;31mFileNotFoundError\u001b[0m: [Errno 2] No such file or directory: 'examples/oauth2.json'"
     ]
    }
   ],
   "source": [
    "sc = OAuth2(None, None, from_file='examples/oauth2.json')"
   ]
  },
  {
   "cell_type": "code",
   "execution_count": 15,
   "id": "d319b3d0",
   "metadata": {},
   "outputs": [
    {
     "ename": "TypeError",
     "evalue": "__init__() missing 1 required positional argument: 'code'",
     "output_type": "error",
     "traceback": [
      "\u001b[1;31m---------------------------------------------------------------------------\u001b[0m",
      "\u001b[1;31mTypeError\u001b[0m                                 Traceback (most recent call last)",
      "\u001b[1;32mC:\\Users\\EROBER~1\\AppData\\Local\\Temp/ipykernel_12640/2200741295.py\u001b[0m in \u001b[0;36m<module>\u001b[1;34m\u001b[0m\n\u001b[1;32m----> 1\u001b[1;33m \u001b[0mgm\u001b[0m \u001b[1;33m=\u001b[0m \u001b[0myfa\u001b[0m\u001b[1;33m.\u001b[0m\u001b[0mGame\u001b[0m\u001b[1;33m(\u001b[0m \u001b[1;34m'nfl'\u001b[0m\u001b[1;33m)\u001b[0m\u001b[1;33m\u001b[0m\u001b[1;33m\u001b[0m\u001b[0m\n\u001b[0m",
      "\u001b[1;31mTypeError\u001b[0m: __init__() missing 1 required positional argument: 'code'"
     ]
    }
   ],
   "source": [
    "gm = yfa.Game( 'nfl')"
   ]
  },
  {
   "cell_type": "code",
   "execution_count": null,
   "id": "3d9eb7d5",
   "metadata": {},
   "outputs": [],
   "source": []
  }
 ],
 "metadata": {
  "kernelspec": {
   "display_name": "Python 3 (ipykernel)",
   "language": "python",
   "name": "python3"
  },
  "language_info": {
   "codemirror_mode": {
    "name": "ipython",
    "version": 3
   },
   "file_extension": ".py",
   "mimetype": "text/x-python",
   "name": "python",
   "nbconvert_exporter": "python",
   "pygments_lexer": "ipython3",
   "version": "3.9.7"
  }
 },
 "nbformat": 4,
 "nbformat_minor": 5
}
